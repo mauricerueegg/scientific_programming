{
 "cells": [
  {
   "attachments": {},
   "cell_type": "markdown",
   "id": "c0adefd2",
   "metadata": {},
   "source": [
    "# Object oriented programming (OOP): Turtle race\n",
    "\n",
    "### Note: when using Jupter notebook, to close the animation window, always Restart the Kernel\n",
    "\n",
    "For an introduction to the Turtle library see: https://realpython.com/beginners-guide-python-turtle"
   ]
  },
  {
   "attachments": {},
   "cell_type": "markdown",
   "id": "3e9404ee",
   "metadata": {},
   "source": [
    "## Libraries and settings"
   ]
  },
  {
   "cell_type": "code",
   "execution_count": 1,
   "id": "209ce4bc",
   "metadata": {},
   "outputs": [
    {
     "name": "stdout",
     "output_type": "stream",
     "text": [
      "/Users/mauriceruegg/Documents/ZHAW_lokal/4_Semester/Scientific_Prototyping/scientific_programming/Week_08/exercises\n"
     ]
    }
   ],
   "source": [
    "# Libaries\n",
    "import os\n",
    "from random import randint\n",
    "from turtle import Screen, Turtle, mainloop\n",
    "\n",
    "# Ignore warnings\n",
    "import warnings\n",
    "warnings.filterwarnings('ignore')\n",
    "\n",
    "# Show current working directory\n",
    "print(os.getcwd())"
   ]
  },
  {
   "attachments": {},
   "cell_type": "markdown",
   "id": "0a343227",
   "metadata": {},
   "source": [
    "## Turtle race"
   ]
  },
  {
   "attachments": {},
   "cell_type": "markdown",
   "id": "d6cb679e",
   "metadata": {},
   "source": [
    "### Note: to close the Turtle graphics window, always use: ALT+F4 or Restart the Kernel"
   ]
  },
  {
   "cell_type": "code",
   "execution_count": 4,
   "id": "898bdc9b",
   "metadata": {},
   "outputs": [
    {
     "ename": "Terminator",
     "evalue": "",
     "output_type": "error",
     "traceback": [
      "\u001b[0;31m---------------------------------------------------------------------------\u001b[0m",
      "\u001b[0;31mTerminator\u001b[0m                                Traceback (most recent call last)",
      "Cell \u001b[0;32mIn[4], line 17\u001b[0m\n\u001b[1;32m      9\u001b[0m \u001b[38;5;124;03m\"\"\"Instance of Turtle class from Python library turtle\u001b[39;00m\n\u001b[1;32m     10\u001b[0m \u001b[38;5;124;03mThe 'finish' object is used to draw a finish line, write \u001b[39;00m\n\u001b[1;32m     11\u001b[0m \u001b[38;5;124;03mthe message \"Finish-Line\", and then animate a series of \u001b[39;00m\n\u001b[1;32m     12\u001b[0m \u001b[38;5;124;03mblue and red dashes on the finish line. Pendown and penup \u001b[39;00m\n\u001b[1;32m     13\u001b[0m \u001b[38;5;124;03mcommands tell the turtle to leave ink on the screen as it \u001b[39;00m\n\u001b[1;32m     14\u001b[0m \u001b[38;5;124;03mmoves or not to leave ink, respectively.\"\"\"\u001b[39;00m\n\u001b[1;32m     16\u001b[0m \u001b[38;5;66;03m# Create finish-line object\u001b[39;00m\n\u001b[0;32m---> 17\u001b[0m finish \u001b[38;5;241m=\u001b[39m \u001b[43mTurtle\u001b[49m\u001b[43m(\u001b[49m\u001b[43mvisible\u001b[49m\u001b[38;5;241;43m=\u001b[39;49m\u001b[38;5;28;43;01mFalse\u001b[39;49;00m\u001b[43m)\u001b[49m\n\u001b[1;32m     18\u001b[0m finish\u001b[38;5;241m.\u001b[39mspeed(\u001b[38;5;124m'\u001b[39m\u001b[38;5;124mfastest\u001b[39m\u001b[38;5;124m'\u001b[39m)\n\u001b[1;32m     19\u001b[0m finish\u001b[38;5;241m.\u001b[39mpenup()\n",
      "File \u001b[0;32m~/anaconda3/envs/spenv/lib/python3.10/turtle.py:3815\u001b[0m, in \u001b[0;36mTurtle.__init__\u001b[0;34m(self, shape, undobuffersize, visible)\u001b[0m\n\u001b[1;32m   3813\u001b[0m \u001b[38;5;28;01mif\u001b[39;00m Turtle\u001b[38;5;241m.\u001b[39m_screen \u001b[38;5;129;01mis\u001b[39;00m \u001b[38;5;28;01mNone\u001b[39;00m:\n\u001b[1;32m   3814\u001b[0m     Turtle\u001b[38;5;241m.\u001b[39m_screen \u001b[38;5;241m=\u001b[39m Screen()\n\u001b[0;32m-> 3815\u001b[0m \u001b[43mRawTurtle\u001b[49m\u001b[38;5;241;43m.\u001b[39;49m\u001b[38;5;21;43m__init__\u001b[39;49m\u001b[43m(\u001b[49m\u001b[38;5;28;43mself\u001b[39;49m\u001b[43m,\u001b[49m\u001b[43m \u001b[49m\u001b[43mTurtle\u001b[49m\u001b[38;5;241;43m.\u001b[39;49m\u001b[43m_screen\u001b[49m\u001b[43m,\u001b[49m\n\u001b[1;32m   3816\u001b[0m \u001b[43m                   \u001b[49m\u001b[43mshape\u001b[49m\u001b[38;5;241;43m=\u001b[39;49m\u001b[43mshape\u001b[49m\u001b[43m,\u001b[49m\n\u001b[1;32m   3817\u001b[0m \u001b[43m                   \u001b[49m\u001b[43mundobuffersize\u001b[49m\u001b[38;5;241;43m=\u001b[39;49m\u001b[43mundobuffersize\u001b[49m\u001b[43m,\u001b[49m\n\u001b[1;32m   3818\u001b[0m \u001b[43m                   \u001b[49m\u001b[43mvisible\u001b[49m\u001b[38;5;241;43m=\u001b[39;49m\u001b[43mvisible\u001b[49m\u001b[43m)\u001b[49m\n",
      "File \u001b[0;32m~/anaconda3/envs/spenv/lib/python3.10/turtle.py:2557\u001b[0m, in \u001b[0;36mRawTurtle.__init__\u001b[0;34m(self, canvas, shape, undobuffersize, visible)\u001b[0m\n\u001b[1;32m   2555\u001b[0m \u001b[38;5;28mself\u001b[39m\u001b[38;5;241m.\u001b[39m_undobuffersize \u001b[38;5;241m=\u001b[39m undobuffersize\n\u001b[1;32m   2556\u001b[0m \u001b[38;5;28mself\u001b[39m\u001b[38;5;241m.\u001b[39mundobuffer \u001b[38;5;241m=\u001b[39m Tbuffer(undobuffersize)\n\u001b[0;32m-> 2557\u001b[0m \u001b[38;5;28;43mself\u001b[39;49m\u001b[38;5;241;43m.\u001b[39;49m\u001b[43m_update\u001b[49m\u001b[43m(\u001b[49m\u001b[43m)\u001b[49m\n",
      "File \u001b[0;32m~/anaconda3/envs/spenv/lib/python3.10/turtle.py:2660\u001b[0m, in \u001b[0;36mRawTurtle._update\u001b[0;34m(self)\u001b[0m\n\u001b[1;32m   2658\u001b[0m     \u001b[38;5;28;01mreturn\u001b[39;00m\n\u001b[1;32m   2659\u001b[0m \u001b[38;5;28;01melif\u001b[39;00m screen\u001b[38;5;241m.\u001b[39m_tracing \u001b[38;5;241m==\u001b[39m \u001b[38;5;241m1\u001b[39m:\n\u001b[0;32m-> 2660\u001b[0m     \u001b[38;5;28;43mself\u001b[39;49m\u001b[38;5;241;43m.\u001b[39;49m\u001b[43m_update_data\u001b[49m\u001b[43m(\u001b[49m\u001b[43m)\u001b[49m\n\u001b[1;32m   2661\u001b[0m     \u001b[38;5;28mself\u001b[39m\u001b[38;5;241m.\u001b[39m_drawturtle()\n\u001b[1;32m   2662\u001b[0m     screen\u001b[38;5;241m.\u001b[39m_update()                  \u001b[38;5;66;03m# TurtleScreenBase\u001b[39;00m\n",
      "File \u001b[0;32m~/anaconda3/envs/spenv/lib/python3.10/turtle.py:2646\u001b[0m, in \u001b[0;36mRawTurtle._update_data\u001b[0;34m(self)\u001b[0m\n\u001b[1;32m   2645\u001b[0m \u001b[38;5;28;01mdef\u001b[39;00m \u001b[38;5;21m_update_data\u001b[39m(\u001b[38;5;28mself\u001b[39m):\n\u001b[0;32m-> 2646\u001b[0m     \u001b[38;5;28;43mself\u001b[39;49m\u001b[38;5;241;43m.\u001b[39;49m\u001b[43mscreen\u001b[49m\u001b[38;5;241;43m.\u001b[39;49m\u001b[43m_incrementudc\u001b[49m\u001b[43m(\u001b[49m\u001b[43m)\u001b[49m\n\u001b[1;32m   2647\u001b[0m     \u001b[38;5;28;01mif\u001b[39;00m \u001b[38;5;28mself\u001b[39m\u001b[38;5;241m.\u001b[39mscreen\u001b[38;5;241m.\u001b[39m_updatecounter \u001b[38;5;241m!=\u001b[39m \u001b[38;5;241m0\u001b[39m:\n\u001b[1;32m   2648\u001b[0m         \u001b[38;5;28;01mreturn\u001b[39;00m\n",
      "File \u001b[0;32m~/anaconda3/envs/spenv/lib/python3.10/turtle.py:1292\u001b[0m, in \u001b[0;36mTurtleScreen._incrementudc\u001b[0;34m(self)\u001b[0m\n\u001b[1;32m   1290\u001b[0m \u001b[38;5;28;01mif\u001b[39;00m \u001b[38;5;129;01mnot\u001b[39;00m TurtleScreen\u001b[38;5;241m.\u001b[39m_RUNNING:\n\u001b[1;32m   1291\u001b[0m     TurtleScreen\u001b[38;5;241m.\u001b[39m_RUNNING \u001b[38;5;241m=\u001b[39m \u001b[38;5;28;01mTrue\u001b[39;00m\n\u001b[0;32m-> 1292\u001b[0m     \u001b[38;5;28;01mraise\u001b[39;00m Terminator\n\u001b[1;32m   1293\u001b[0m \u001b[38;5;28;01mif\u001b[39;00m \u001b[38;5;28mself\u001b[39m\u001b[38;5;241m.\u001b[39m_tracing \u001b[38;5;241m>\u001b[39m \u001b[38;5;241m0\u001b[39m:\n\u001b[1;32m   1294\u001b[0m     \u001b[38;5;28mself\u001b[39m\u001b[38;5;241m.\u001b[39m_updatecounter \u001b[38;5;241m+\u001b[39m\u001b[38;5;241m=\u001b[39m \u001b[38;5;241m1\u001b[39m\n",
      "\u001b[0;31mTerminator\u001b[0m: "
     ]
    },
    {
     "ename": "",
     "evalue": "",
     "output_type": "error",
     "traceback": [
      "\u001b[1;31mDer Kernel ist beim Ausführen von Code in der aktuellen Zelle oder einer vorherigen Zelle abgestürzt. \n",
      "\u001b[1;31mBitte überprüfen Sie den Code in der/den Zelle(n), um eine mögliche Fehlerursache zu identifizieren. \n",
      "\u001b[1;31mKlicken Sie <a href='https://aka.ms/vscodeJupyterKernelCrash'>hier</a>, um weitere Informationen zu erhalten. \n",
      "\u001b[1;31mWeitere Informationen finden Sie unter Jupyter <a href='command:jupyter.viewOutput'>Protokoll</a>."
     ]
    }
   ],
   "source": [
    "# Settings\n",
    "COLORS = ['red', 'brown', 'green', 'orange', 'lightblue']\n",
    "FONT = (\"Times New Roman\", 14, 'bold')\n",
    "\n",
    "# Instance of Screen class from Python library turtle\n",
    "screen = Screen()\n",
    "screen.bgcolor('black')\n",
    "\n",
    "\"\"\"Instance of Turtle class from Python library turtle\n",
    "The 'finish' object is used to draw a finish line, write \n",
    "the message \"Finish-Line\", and then animate a series of \n",
    "blue and red dashes on the finish line. Pendown and penup \n",
    "commands tell the turtle to leave ink on the screen as it \n",
    "moves or not to leave ink, respectively.\"\"\"\n",
    "\n",
    "# Create finish-line object\n",
    "finish = Turtle(visible=False)\n",
    "finish.speed('fastest')\n",
    "finish.penup()\n",
    "\n",
    "# Settings for text \"Finish-Line\"\n",
    "finish.color('white')\n",
    "finish.goto(180, 160)\n",
    "finish.write(\"Finish-Line\", font=FONT)\n",
    "\n",
    "# Settings for line \"Finish-Line\"\n",
    "finish.width(3)\n",
    "finish.goto(200, 150)\n",
    "finish.right(90)\n",
    "finish.pendown()\n",
    "\n",
    "\"\"\"In the nex code block, the 'finish' object's pen color is set to blue, \n",
    "and then it moves forward 5 pixels. Then the pen color is set to red, \n",
    "and the 'finish' object moves forward another 5 pixels. This process is \n",
    "repeated 16 times, resulting in a dashed line with alternating blue and red \n",
    "segments.\"\"\"\n",
    "\n",
    "# Settings for finish-line\n",
    "for i in range(16):\n",
    "    finish.color('blue')\n",
    "    finish.forward(5)\n",
    "    finish.color('red')\n",
    "    finish.forward(5)\n",
    "\n",
    "finish.penup()\n",
    "finish.goto(160, 250)\n",
    "\n",
    "\"\"\"The 'turtles' list is used to store instances of the 'Turtle' class, \n",
    "each representing a turtle in the race. The 'turtles' are initialized \n",
    "with different colors, positioned on the starting line, and then animated \n",
    "to move forward randomly until one of them reaches the finish line.\"\"\"\n",
    "\n",
    "# List to store turtles\n",
    "turtles = []\n",
    "\n",
    "# Turtle settings (colors, position on start line)\n",
    "for gate, color in enumerate(COLORS):\n",
    "    turtle = Turtle('turtle')\n",
    "    turtle.color(color)\n",
    "    turtle.penup()\n",
    "    turtle.goto(-155, 10 + 30 * gate)\n",
    "    turtle.pendown()\n",
    "\n",
    "    turtles.append(turtle)\n",
    "\n",
    "winner = None\n",
    "\n",
    "# Loop to run the turtle race\n",
    "while not winner:\n",
    "    for turtle in turtles:\n",
    "        # Step width of turtels (random numbers)\n",
    "        turtle.forward(randint(1, 5))\n",
    "        if turtle.xcor() >= 190:\n",
    "            winner = turtle\n",
    "            break  # we have a winner!\n",
    "    else:\n",
    "        continue # as long as no winner, continue\n",
    "    break\n",
    "\n",
    "\"\"\"Once a turtle wins the race, the color of the 'finish' object's pen is \n",
    "changed to the winner's color and the message 'color' won the race!\"\"\"\n",
    "\n",
    "finish.pencolor(winner.pencolor())\n",
    "finish.write(f\"{winner.pencolor().capitalize()} won the race!!!\", font=FONT)\n",
    "\n",
    "# The mainloop function is called to keep the \n",
    "# turtle screen open until the user closes it.\n",
    "mainloop()"
   ]
  },
  {
   "attachments": {},
   "cell_type": "markdown",
   "id": "85c1c732",
   "metadata": {},
   "source": [
    "### Jupyter notebook --footer info-- (please always provide this at the end of each notebook)"
   ]
  },
  {
   "cell_type": "code",
   "execution_count": 3,
   "id": "a17438db",
   "metadata": {},
   "outputs": [
    {
     "name": "stdout",
     "output_type": "stream",
     "text": [
      "-----------------------------------\n",
      "POSIX\n",
      "Darwin | 23.4.0\n",
      "Datetime: 2024-04-12 13:29:48\n",
      "Python Version: 3.10.13\n",
      "-----------------------------------\n"
     ]
    }
   ],
   "source": [
    "import os\n",
    "import platform\n",
    "import socket\n",
    "from platform import python_version\n",
    "from datetime import datetime\n",
    "\n",
    "print('-----------------------------------')\n",
    "print(os.name.upper())\n",
    "print(platform.system(), '|', platform.release())\n",
    "print('Datetime:', datetime.now().strftime(\"%Y-%m-%d %H:%M:%S\"))\n",
    "print('Python Version:', python_version())\n",
    "print('-----------------------------------')"
   ]
  }
 ],
 "metadata": {
  "kernelspec": {
   "display_name": "spenv",
   "language": "python",
   "name": "python3"
  },
  "language_info": {
   "codemirror_mode": {
    "name": "ipython",
    "version": 3
   },
   "file_extension": ".py",
   "mimetype": "text/x-python",
   "name": "python",
   "nbconvert_exporter": "python",
   "pygments_lexer": "ipython3",
   "version": "3.10.13"
  },
  "vscode": {
   "interpreter": {
    "hash": "e88d0147854d95637bfda66d71c1971db493e0eba7c923c8e835cc4382a02720"
   }
  }
 },
 "nbformat": 4,
 "nbformat_minor": 5
}
