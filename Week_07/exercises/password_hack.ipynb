{
 "cells": [
  {
   "attachments": {},
   "cell_type": "markdown",
   "metadata": {},
   "source": [
    "# Brute force Excel password hack with Python\n",
    "\n",
    "Note that the additional Python library <span style=\"color: blue\">'xlwings'</span> must be installed in your activated conda environment to make this example run!"
   ]
  },
  {
   "attachments": {},
   "cell_type": "markdown",
   "metadata": {},
   "source": [
    "## Libaries and settings"
   ]
  },
  {
   "cell_type": "code",
   "execution_count": 29,
   "metadata": {},
   "outputs": [
    {
     "name": "stdout",
     "output_type": "stream",
     "text": [
      "/Users/mauriceruegg/Documents/ZHAW_lokal/4_Semester/Scientific_Prototyping/scientific_programming/Week_07/exercises\n"
     ]
    }
   ],
   "source": [
    "# Libraries\n",
    "import os\n",
    "import time\n",
    "import string\n",
    "import itertools\n",
    "import xlwings as xw\n",
    "\n",
    "# Ignore warnings\n",
    "import warnings\n",
    "warnings.filterwarnings('ignore')\n",
    "\n",
    "# Show current working directory\n",
    "print(os.getcwd())"
   ]
  },
  {
   "cell_type": "markdown",
   "metadata": {},
   "source": [
    "## Create own password list"
   ]
  },
  {
   "cell_type": "code",
   "execution_count": 30,
   "metadata": {},
   "outputs": [],
   "source": [
    "# Function to create own password list (if required)\n",
    "def password_wordlist(start_range, end_range, file_name):\n",
    "\n",
    "    chars = string.ascii_lowercase + \\\n",
    "            string.ascii_uppercase + \\\n",
    "            string.digits + '@' + '#' + '$' + '.'\n",
    "    \n",
    "    attempts = 0\n",
    "    f = open(file_name, 'w')\n",
    "\n",
    "    for password_length in range(start_range, end_range):\n",
    "\n",
    "        for guess in itertools.product(chars, repeat=password_length): \n",
    "            attempts += 1\n",
    "            guess = ''.join(guess)\n",
    "            f.write(guess)\n",
    "            f.write(\"\\n\")\n",
    "            \n",
    "    f.close()\n",
    "\n",
    "password_wordlist(start_range=3,end_range=4,file_name='passwords.txt')"
   ]
  },
  {
   "attachments": {},
   "cell_type": "markdown",
   "metadata": {},
   "source": [
    "## Brute force Excel password hack"
   ]
  },
  {
   "cell_type": "code",
   "execution_count": 31,
   "metadata": {},
   "outputs": [
    {
     "name": "stdout",
     "output_type": "stream",
     "text": [
      "Bad password:  Dog\n"
     ]
    },
    {
     "ename": "NameError",
     "evalue": "name 'app' is not defined",
     "output_type": "error",
     "traceback": [
      "\u001b[0;31m---------------------------------------------------------------------------\u001b[0m",
      "\u001b[0;31mAttributeError\u001b[0m                            Traceback (most recent call last)",
      "Cell \u001b[0;32mIn[31], line 17\u001b[0m\n\u001b[1;32m     15\u001b[0m \u001b[38;5;28;01mtry\u001b[39;00m:\n\u001b[1;32m     16\u001b[0m     \u001b[38;5;66;03m# Attempt to open the workbook with the current password\u001b[39;00m\n\u001b[0;32m---> 17\u001b[0m     app \u001b[38;5;241m=\u001b[39m \u001b[43mxw\u001b[49m\u001b[38;5;241;43m.\u001b[39;49m\u001b[43mApp\u001b[49m\u001b[43m(\u001b[49m\u001b[43mvisible\u001b[49m\u001b[38;5;241;43m=\u001b[39;49m\u001b[38;5;28;43;01mFalse\u001b[39;49;00m\u001b[43m)\u001b[49m  \u001b[38;5;66;03m# Keep Excel in the background\u001b[39;00m\n\u001b[1;32m     18\u001b[0m     wb \u001b[38;5;241m=\u001b[39m app\u001b[38;5;241m.\u001b[39mbooks\u001b[38;5;241m.\u001b[39mopen(excel_file_path, password\u001b[38;5;241m=\u001b[39mpassword)\n",
      "File \u001b[0;32m~/anaconda3/envs/spenv/lib/python3.10/site-packages/xlwings/main.py:311\u001b[0m, in \u001b[0;36mApp.__init__\u001b[0;34m(self, visible, spec, add_book, impl)\u001b[0m\n\u001b[1;32m    310\u001b[0m \u001b[38;5;28;01mif\u001b[39;00m impl \u001b[38;5;129;01mis\u001b[39;00m \u001b[38;5;28;01mNone\u001b[39;00m:\n\u001b[0;32m--> 311\u001b[0m     \u001b[38;5;28mself\u001b[39m\u001b[38;5;241m.\u001b[39mimpl \u001b[38;5;241m=\u001b[39m \u001b[43mengines\u001b[49m\u001b[38;5;241;43m.\u001b[39;49m\u001b[43mactive\u001b[49m\u001b[38;5;241;43m.\u001b[39;49m\u001b[43mapps\u001b[49m\u001b[38;5;241m.\u001b[39madd(\n\u001b[1;32m    312\u001b[0m         spec\u001b[38;5;241m=\u001b[39mspec, add_book\u001b[38;5;241m=\u001b[39madd_book, visible\u001b[38;5;241m=\u001b[39mvisible\n\u001b[1;32m    313\u001b[0m     )\u001b[38;5;241m.\u001b[39mimpl\n\u001b[1;32m    314\u001b[0m     \u001b[38;5;28;01mif\u001b[39;00m visible \u001b[38;5;129;01mor\u001b[39;00m visible \u001b[38;5;129;01mis\u001b[39;00m \u001b[38;5;28;01mNone\u001b[39;00m:\n",
      "\u001b[0;31mAttributeError\u001b[0m: 'NoneType' object has no attribute 'apps'",
      "\nDuring handling of the above exception, another exception occurred:\n",
      "\u001b[0;31mNameError\u001b[0m                                 Traceback (most recent call last)",
      "Cell \u001b[0;32mIn[31], line 27\u001b[0m\n\u001b[1;32m     25\u001b[0m \u001b[38;5;28;01mexcept\u001b[39;00m \u001b[38;5;167;01mException\u001b[39;00m \u001b[38;5;28;01mas\u001b[39;00m e:\n\u001b[1;32m     26\u001b[0m     \u001b[38;5;28mprint\u001b[39m(\u001b[38;5;124m'\u001b[39m\u001b[38;5;124mBad password: \u001b[39m\u001b[38;5;124m'\u001b[39m, password)\n\u001b[0;32m---> 27\u001b[0m     \u001b[43mapp\u001b[49m\u001b[38;5;241m.\u001b[39mquit()\n",
      "\u001b[0;31mNameError\u001b[0m: name 'app' is not defined"
     ]
    }
   ],
   "source": [
    "\n",
    "# Set up the path to the password-protected Excel file\n",
    "excel_file_path = 'chicken_data_password_protected.xlsx'\n",
    "\n",
    "# List to hold passwords\n",
    "password_list = []\n",
    "\n",
    "# Extract prepared passwords from file and load to list\n",
    "with open('passwords_short.txt', 'r', encoding='utf-8') as pwd:\n",
    "    passwords = pwd.readlines()\n",
    "    for password in passwords:\n",
    "        password_list.append(password.strip())\n",
    "\n",
    "# Attempt to open the workbook with each password\n",
    "for password in password_list:\n",
    "    try:\n",
    "        # Attempt to open the workbook with the current password\n",
    "        app = xw.App(visible=False)  # Keep Excel in the background\n",
    "        wb = app.books.open(excel_file_path, password=password)\n",
    "        \n",
    "        # If successful, print the password and break the loop\n",
    "        print('Successful password: ', password)\n",
    "        wb.close()\n",
    "        app.quit()\n",
    "        break\n",
    "    except Exception as e:\n",
    "        print('Bad password: ', password)\n",
    "        app.quit()"
   ]
  },
  {
   "attachments": {},
   "cell_type": "markdown",
   "metadata": {},
   "source": [
    "### Jupyter notebook --footer info-- (please always provide this at the end of each notebook)"
   ]
  },
  {
   "cell_type": "code",
   "execution_count": null,
   "metadata": {},
   "outputs": [
    {
     "name": "stdout",
     "output_type": "stream",
     "text": [
      "-----------------------------------\n",
      "POSIX\n",
      "Darwin | 23.2.0\n",
      "Datetime: 2024-04-07 17:18:05\n",
      "Python Version: 3.10.13\n",
      "-----------------------------------\n"
     ]
    }
   ],
   "source": [
    "import os\n",
    "import platform\n",
    "import socket\n",
    "from platform import python_version\n",
    "from datetime import datetime\n",
    "\n",
    "print('-----------------------------------')\n",
    "print(os.name.upper())\n",
    "print(platform.system(), '|', platform.release())\n",
    "print('Datetime:', datetime.now().strftime(\"%Y-%m-%d %H:%M:%S\"))\n",
    "print('Python Version:', python_version())\n",
    "print('-----------------------------------')"
   ]
  }
 ],
 "metadata": {
  "kernelspec": {
   "display_name": "spenv",
   "language": "python",
   "name": "python3"
  },
  "language_info": {
   "codemirror_mode": {
    "name": "ipython",
    "version": 3
   },
   "file_extension": ".py",
   "mimetype": "text/x-python",
   "name": "python",
   "nbconvert_exporter": "python",
   "pygments_lexer": "ipython3",
   "version": "3.10.13"
  },
  "orig_nbformat": 4
 },
 "nbformat": 4,
 "nbformat_minor": 2
}
