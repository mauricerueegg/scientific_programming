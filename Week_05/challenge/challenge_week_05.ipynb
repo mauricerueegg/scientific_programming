{
 "cells": [
  {
   "cell_type": "code",
   "execution_count": 30,
   "metadata": {},
   "outputs": [
    {
     "name": "stdout",
     "output_type": "stream",
     "text": [
      "/Users/mauriceruegg/Documents/ZHAW_lokal/4_Semester/Scientific_Prototyping/scientific_programming/Week_05/challenge\n"
     ]
    }
   ],
   "source": [
    "# Libraries\n",
    "import os\n",
    "import numpy as np\n",
    "import pandas as pd\n",
    "import matplotlib.pyplot as plt\n",
    "\n",
    "# matplotlib.pyplot style\n",
    "plt.style.use('dark_background')\n",
    "\n",
    "# Ignore warnings\n",
    "import warnings\n",
    "warnings.filterwarnings(\"ignore\")\n",
    "\n",
    "# Define settings for graphics\n",
    "# \n",
    "# plt.style.use('dark_background')\n",
    "\n",
    "# Get current working directory\n",
    "print(os.getcwd())\n"
   ]
  },
  {
   "cell_type": "code",
   "execution_count": 31,
   "metadata": {},
   "outputs": [
    {
     "name": "stdout",
     "output_type": "stream",
     "text": [
      "(600, 6)\n"
     ]
    },
    {
     "data": {
      "text/html": [
       "<div>\n",
       "<style scoped>\n",
       "    .dataframe tbody tr th:only-of-type {\n",
       "        vertical-align: middle;\n",
       "    }\n",
       "\n",
       "    .dataframe tbody tr th {\n",
       "        vertical-align: top;\n",
       "    }\n",
       "\n",
       "    .dataframe thead th {\n",
       "        text-align: right;\n",
       "    }\n",
       "</style>\n",
       "<table border=\"1\" class=\"dataframe\">\n",
       "  <thead>\n",
       "    <tr style=\"text-align: right;\">\n",
       "      <th></th>\n",
       "      <th>web-scraper-order</th>\n",
       "      <th>web-scraper-start-url</th>\n",
       "      <th>title_raw</th>\n",
       "      <th>address_raw</th>\n",
       "      <th>price_raw</th>\n",
       "      <th>description_raw</th>\n",
       "    </tr>\n",
       "  </thead>\n",
       "  <tbody>\n",
       "    <tr>\n",
       "      <th>0</th>\n",
       "      <td>1678953522-601</td>\n",
       "      <td>https://www.tutti.ch/de/q/suche/Ak6V2ZWxvc8CUw...</td>\n",
       "      <td>Velounterstand / Fahrradunterstand für 3-4 Vel...</td>\n",
       "      <td>Zürich, 8472, 26.02.2023</td>\n",
       "      <td>2'200.-</td>\n",
       "      <td>Velounterstand / Fahrradunterstand für 3-4 Vel...</td>\n",
       "    </tr>\n",
       "    <tr>\n",
       "      <th>1</th>\n",
       "      <td>1678953522-602</td>\n",
       "      <td>https://www.tutti.ch/de/q/suche/Ak6V2ZWxvc8CUw...</td>\n",
       "      <td>Thule FAHRRADTRÄGER Mod. 307130</td>\n",
       "      <td>Zürich, 8032, 26.02.2023</td>\n",
       "      <td>200.-</td>\n",
       "      <td>Da wir ohne Velos auf Reise gehen, verkaufen w...</td>\n",
       "    </tr>\n",
       "    <tr>\n",
       "      <th>2</th>\n",
       "      <td>1678953522-603</td>\n",
       "      <td>https://www.tutti.ch/de/q/suche/Ak6V2ZWxvc8CUw...</td>\n",
       "      <td>Veloständer für 5 Velos</td>\n",
       "      <td>St. Gallen, 9424, 26.02.2023</td>\n",
       "      <td>15.-</td>\n",
       "      <td>Verankerbarer Veloständer für 5 Fahrräder. Ein...</td>\n",
       "    </tr>\n",
       "    <tr>\n",
       "      <th>3</th>\n",
       "      <td>1678953522-604</td>\n",
       "      <td>https://www.tutti.ch/de/q/suche/Ak6V2ZWxvc8CUw...</td>\n",
       "      <td>Hymer-Veloträger- Multitalent Tele 4</td>\n",
       "      <td>St. Gallen, 9607, 26.02.2023</td>\n",
       "      <td>320.-</td>\n",
       "      <td>- Top Zustand, unbenutzt\\n- Masse: [LxB(T)xH] ...</td>\n",
       "    </tr>\n",
       "    <tr>\n",
       "      <th>4</th>\n",
       "      <td>1678953522-605</td>\n",
       "      <td>https://www.tutti.ch/de/q/suche/Ak6V2ZWxvc8CUw...</td>\n",
       "      <td>Veloständer</td>\n",
       "      <td>Bern, 3472, 26.02.2023</td>\n",
       "      <td>100.-</td>\n",
       "      <td>Veloständer verzinkt für 12 Velos. Länge 4.5m....</td>\n",
       "    </tr>\n",
       "    <tr>\n",
       "      <th>5</th>\n",
       "      <td>1678953522-606</td>\n",
       "      <td>https://www.tutti.ch/de/q/suche/Ak6V2ZWxvc8CUw...</td>\n",
       "      <td>Umwerfer Shimano Deore FD-M610. 3x10. E-Type</td>\n",
       "      <td>Aargau, 5210, 26.02.2023</td>\n",
       "      <td>10.-</td>\n",
       "      <td>Termin schriftlich mit mir vereinbaren, erst d...</td>\n",
       "    </tr>\n",
       "    <tr>\n",
       "      <th>6</th>\n",
       "      <td>1678953522-607</td>\n",
       "      <td>https://www.tutti.ch/de/q/suche/Ak6V2ZWxvc8CUw...</td>\n",
       "      <td>Fahrradträger Veloträger Anhängerkupplung</td>\n",
       "      <td>Glarus, 8866, 26.02.2023</td>\n",
       "      <td>390.-</td>\n",
       "      <td>Veloträger für 4 Velos,\\nauch für  E- Bike auf...</td>\n",
       "    </tr>\n",
       "    <tr>\n",
       "      <th>7</th>\n",
       "      <td>1678953522-608</td>\n",
       "      <td>https://www.tutti.ch/de/q/suche/Ak6V2ZWxvc8CUw...</td>\n",
       "      <td>Velomechaniker</td>\n",
       "      <td>Bern, 3612, 26.02.2023</td>\n",
       "      <td>80.-</td>\n",
       "      <td>Ich bin gelernter Velomechaniker und bietet ih...</td>\n",
       "    </tr>\n",
       "    <tr>\n",
       "      <th>8</th>\n",
       "      <td>1678953522-609</td>\n",
       "      <td>https://www.tutti.ch/de/q/suche/Ak6V2ZWxvc8CUw...</td>\n",
       "      <td>Velokorb vorne weiss (Gratis Lieferung)</td>\n",
       "      <td>Zürich, 8004, 26.02.2023</td>\n",
       "      <td>38.-</td>\n",
       "      <td>Gratis Versand innerhalb von ca. 2-4 Arbeitsta...</td>\n",
       "    </tr>\n",
       "    <tr>\n",
       "      <th>9</th>\n",
       "      <td>1678953522-610</td>\n",
       "      <td>https://www.tutti.ch/de/q/suche/Ak6V2ZWxvc8CUw...</td>\n",
       "      <td>Veloträger</td>\n",
       "      <td>St. Gallen, 9630, 26.02.2023</td>\n",
       "      <td>70.-</td>\n",
       "      <td>Veloträger für AHK für 2 Velos (geht auch für ...</td>\n",
       "    </tr>\n",
       "  </tbody>\n",
       "</table>\n",
       "</div>"
      ],
      "text/plain": [
       "  web-scraper-order                              web-scraper-start-url  \\\n",
       "0    1678953522-601  https://www.tutti.ch/de/q/suche/Ak6V2ZWxvc8CUw...   \n",
       "1    1678953522-602  https://www.tutti.ch/de/q/suche/Ak6V2ZWxvc8CUw...   \n",
       "2    1678953522-603  https://www.tutti.ch/de/q/suche/Ak6V2ZWxvc8CUw...   \n",
       "3    1678953522-604  https://www.tutti.ch/de/q/suche/Ak6V2ZWxvc8CUw...   \n",
       "4    1678953522-605  https://www.tutti.ch/de/q/suche/Ak6V2ZWxvc8CUw...   \n",
       "5    1678953522-606  https://www.tutti.ch/de/q/suche/Ak6V2ZWxvc8CUw...   \n",
       "6    1678953522-607  https://www.tutti.ch/de/q/suche/Ak6V2ZWxvc8CUw...   \n",
       "7    1678953522-608  https://www.tutti.ch/de/q/suche/Ak6V2ZWxvc8CUw...   \n",
       "8    1678953522-609  https://www.tutti.ch/de/q/suche/Ak6V2ZWxvc8CUw...   \n",
       "9    1678953522-610  https://www.tutti.ch/de/q/suche/Ak6V2ZWxvc8CUw...   \n",
       "\n",
       "                                           title_raw  \\\n",
       "0  Velounterstand / Fahrradunterstand für 3-4 Vel...   \n",
       "1                    Thule FAHRRADTRÄGER Mod. 307130   \n",
       "2                            Veloständer für 5 Velos   \n",
       "3               Hymer-Veloträger- Multitalent Tele 4   \n",
       "4                                        Veloständer   \n",
       "5       Umwerfer Shimano Deore FD-M610. 3x10. E-Type   \n",
       "6          Fahrradträger Veloträger Anhängerkupplung   \n",
       "7                                     Velomechaniker   \n",
       "8            Velokorb vorne weiss (Gratis Lieferung)   \n",
       "9                                         Veloträger   \n",
       "\n",
       "                    address_raw price_raw  \\\n",
       "0      Zürich, 8472, 26.02.2023   2'200.-   \n",
       "1      Zürich, 8032, 26.02.2023     200.-   \n",
       "2  St. Gallen, 9424, 26.02.2023      15.-   \n",
       "3  St. Gallen, 9607, 26.02.2023     320.-   \n",
       "4        Bern, 3472, 26.02.2023     100.-   \n",
       "5      Aargau, 5210, 26.02.2023      10.-   \n",
       "6      Glarus, 8866, 26.02.2023     390.-   \n",
       "7        Bern, 3612, 26.02.2023      80.-   \n",
       "8      Zürich, 8004, 26.02.2023      38.-   \n",
       "9  St. Gallen, 9630, 26.02.2023      70.-   \n",
       "\n",
       "                                     description_raw  \n",
       "0  Velounterstand / Fahrradunterstand für 3-4 Vel...  \n",
       "1  Da wir ohne Velos auf Reise gehen, verkaufen w...  \n",
       "2  Verankerbarer Veloständer für 5 Fahrräder. Ein...  \n",
       "3  - Top Zustand, unbenutzt\\n- Masse: [LxB(T)xH] ...  \n",
       "4  Veloständer verzinkt für 12 Velos. Länge 4.5m....  \n",
       "5  Termin schriftlich mit mir vereinbaren, erst d...  \n",
       "6  Veloträger für 4 Velos,\\nauch für  E- Bike auf...  \n",
       "7  Ich bin gelernter Velomechaniker und bietet ih...  \n",
       "8  Gratis Versand innerhalb von ca. 2-4 Arbeitsta...  \n",
       "9  Veloträger für AHK für 2 Velos (geht auch für ...  "
      ]
     },
     "execution_count": 31,
     "metadata": {},
     "output_type": "execute_result"
    }
   ],
   "source": [
    "# Read the data\n",
    "df_orig = pd.read_csv('bicycles.csv', sep=\",\")\n",
    "\n",
    "# Show the number of rows and columns\n",
    "print(df_orig.shape)\n",
    "\n",
    "# Print the first 10 rows and a selected number of columns\n",
    "df_orig.iloc[:10,]"
   ]
  },
  {
   "cell_type": "code",
   "execution_count": 32,
   "metadata": {},
   "outputs": [
    {
     "name": "stdout",
     "output_type": "stream",
     "text": [
      "web-scraper-order        object\n",
      "web-scraper-start-url    object\n",
      "title_raw                object\n",
      "address_raw              object\n",
      "price_raw                object\n",
      "description_raw          object\n",
      "dtype: object\n"
     ]
    }
   ],
   "source": [
    "# Show data types\n",
    "print(df_orig.dtypes)"
   ]
  },
  {
   "cell_type": "code",
   "execution_count": 33,
   "metadata": {},
   "outputs": [
    {
     "name": "stdout",
     "output_type": "stream",
     "text": [
      "Count missing values\n",
      "web-scraper-order        0\n",
      "web-scraper-start-url    0\n",
      "title_raw                0\n",
      "address_raw              0\n",
      "price_raw                0\n",
      "description_raw          0\n",
      "dtype: int64\n",
      "\n",
      "Check whether missing values were successfully removed\n"
     ]
    },
    {
     "data": {
      "text/plain": [
       "web-scraper-order        0\n",
       "web-scraper-start-url    0\n",
       "title_raw                0\n",
       "address_raw              0\n",
       "price_raw                0\n",
       "description_raw          0\n",
       "dtype: int64"
      ]
     },
     "execution_count": 33,
     "metadata": {},
     "output_type": "execute_result"
    }
   ],
   "source": [
    "# Count missing values\n",
    "print('Count missing values')\n",
    "print(df_orig.isna().sum())\n",
    "\n",
    "# Remove missing values\n",
    "print('\\nCheck whether missing values were successfully removed')\n",
    "df_clean_01 = df_orig.dropna()\n",
    "df_clean_01.isna().sum()\n",
    "\n",
    "#na = not available"
   ]
  },
  {
   "cell_type": "code",
   "execution_count": 42,
   "metadata": {},
   "outputs": [
    {
     "ename": "ValueError",
     "evalue": "invalid literal for int() with base 10: ''",
     "output_type": "error",
     "traceback": [
      "\u001b[0;31m---------------------------------------------------------------------------\u001b[0m",
      "\u001b[0;31mValueError\u001b[0m                                Traceback (most recent call last)",
      "Cell \u001b[0;32mIn[42], line 4\u001b[0m\n\u001b[1;32m      1\u001b[0m \u001b[38;5;66;03m# Extract values using the lambda function\u001b[39;00m\n\u001b[1;32m      2\u001b[0m df[\u001b[38;5;124m'\u001b[39m\u001b[38;5;124mprice\u001b[39m\u001b[38;5;124m'\u001b[39m] \u001b[38;5;241m=\u001b[39m df[\u001b[38;5;124m'\u001b[39m\u001b[38;5;124mprice_raw\u001b[39m\u001b[38;5;124m'\u001b[39m]\u001b[38;5;241m.\u001b[39mapply(\u001b[38;5;28;01mlambda\u001b[39;00m x: re\u001b[38;5;241m.\u001b[39msub(\u001b[38;5;124m'\u001b[39m\u001b[38;5;124m[^\u001b[39m\u001b[38;5;124m\\\u001b[39m\u001b[38;5;124md]\u001b[39m\u001b[38;5;124m'\u001b[39m, \u001b[38;5;124m'\u001b[39m\u001b[38;5;124m'\u001b[39m, x))\n\u001b[0;32m----> 4\u001b[0m df[\u001b[38;5;124m'\u001b[39m\u001b[38;5;124mprice\u001b[39m\u001b[38;5;124m'\u001b[39m] \u001b[38;5;241m=\u001b[39m \u001b[43mdf\u001b[49m\u001b[43m[\u001b[49m\u001b[38;5;124;43m'\u001b[39;49m\u001b[38;5;124;43mprice\u001b[39;49m\u001b[38;5;124;43m'\u001b[39;49m\u001b[43m]\u001b[49m\u001b[38;5;241;43m.\u001b[39;49m\u001b[43mastype\u001b[49m\u001b[43m(\u001b[49m\u001b[38;5;28;43mint\u001b[39;49m\u001b[43m)\u001b[49m\n",
      "File \u001b[0;32m~/anaconda3/envs/spenv/lib/python3.10/site-packages/pandas/core/generic.py:6640\u001b[0m, in \u001b[0;36mNDFrame.astype\u001b[0;34m(self, dtype, copy, errors)\u001b[0m\n\u001b[1;32m   6634\u001b[0m     results \u001b[38;5;241m=\u001b[39m [\n\u001b[1;32m   6635\u001b[0m         ser\u001b[38;5;241m.\u001b[39mastype(dtype, copy\u001b[38;5;241m=\u001b[39mcopy, errors\u001b[38;5;241m=\u001b[39merrors) \u001b[38;5;28;01mfor\u001b[39;00m _, ser \u001b[38;5;129;01min\u001b[39;00m \u001b[38;5;28mself\u001b[39m\u001b[38;5;241m.\u001b[39mitems()\n\u001b[1;32m   6636\u001b[0m     ]\n\u001b[1;32m   6638\u001b[0m \u001b[38;5;28;01melse\u001b[39;00m:\n\u001b[1;32m   6639\u001b[0m     \u001b[38;5;66;03m# else, only a single dtype is given\u001b[39;00m\n\u001b[0;32m-> 6640\u001b[0m     new_data \u001b[38;5;241m=\u001b[39m \u001b[38;5;28;43mself\u001b[39;49m\u001b[38;5;241;43m.\u001b[39;49m\u001b[43m_mgr\u001b[49m\u001b[38;5;241;43m.\u001b[39;49m\u001b[43mastype\u001b[49m\u001b[43m(\u001b[49m\u001b[43mdtype\u001b[49m\u001b[38;5;241;43m=\u001b[39;49m\u001b[43mdtype\u001b[49m\u001b[43m,\u001b[49m\u001b[43m \u001b[49m\u001b[43mcopy\u001b[49m\u001b[38;5;241;43m=\u001b[39;49m\u001b[43mcopy\u001b[49m\u001b[43m,\u001b[49m\u001b[43m \u001b[49m\u001b[43merrors\u001b[49m\u001b[38;5;241;43m=\u001b[39;49m\u001b[43merrors\u001b[49m\u001b[43m)\u001b[49m\n\u001b[1;32m   6641\u001b[0m     res \u001b[38;5;241m=\u001b[39m \u001b[38;5;28mself\u001b[39m\u001b[38;5;241m.\u001b[39m_constructor_from_mgr(new_data, axes\u001b[38;5;241m=\u001b[39mnew_data\u001b[38;5;241m.\u001b[39maxes)\n\u001b[1;32m   6642\u001b[0m     \u001b[38;5;28;01mreturn\u001b[39;00m res\u001b[38;5;241m.\u001b[39m__finalize__(\u001b[38;5;28mself\u001b[39m, method\u001b[38;5;241m=\u001b[39m\u001b[38;5;124m\"\u001b[39m\u001b[38;5;124mastype\u001b[39m\u001b[38;5;124m\"\u001b[39m)\n",
      "File \u001b[0;32m~/anaconda3/envs/spenv/lib/python3.10/site-packages/pandas/core/internals/managers.py:430\u001b[0m, in \u001b[0;36mBaseBlockManager.astype\u001b[0;34m(self, dtype, copy, errors)\u001b[0m\n\u001b[1;32m    427\u001b[0m \u001b[38;5;28;01melif\u001b[39;00m using_copy_on_write():\n\u001b[1;32m    428\u001b[0m     copy \u001b[38;5;241m=\u001b[39m \u001b[38;5;28;01mFalse\u001b[39;00m\n\u001b[0;32m--> 430\u001b[0m \u001b[38;5;28;01mreturn\u001b[39;00m \u001b[38;5;28;43mself\u001b[39;49m\u001b[38;5;241;43m.\u001b[39;49m\u001b[43mapply\u001b[49m\u001b[43m(\u001b[49m\n\u001b[1;32m    431\u001b[0m \u001b[43m    \u001b[49m\u001b[38;5;124;43m\"\u001b[39;49m\u001b[38;5;124;43mastype\u001b[39;49m\u001b[38;5;124;43m\"\u001b[39;49m\u001b[43m,\u001b[49m\n\u001b[1;32m    432\u001b[0m \u001b[43m    \u001b[49m\u001b[43mdtype\u001b[49m\u001b[38;5;241;43m=\u001b[39;49m\u001b[43mdtype\u001b[49m\u001b[43m,\u001b[49m\n\u001b[1;32m    433\u001b[0m \u001b[43m    \u001b[49m\u001b[43mcopy\u001b[49m\u001b[38;5;241;43m=\u001b[39;49m\u001b[43mcopy\u001b[49m\u001b[43m,\u001b[49m\n\u001b[1;32m    434\u001b[0m \u001b[43m    \u001b[49m\u001b[43merrors\u001b[49m\u001b[38;5;241;43m=\u001b[39;49m\u001b[43merrors\u001b[49m\u001b[43m,\u001b[49m\n\u001b[1;32m    435\u001b[0m \u001b[43m    \u001b[49m\u001b[43musing_cow\u001b[49m\u001b[38;5;241;43m=\u001b[39;49m\u001b[43musing_copy_on_write\u001b[49m\u001b[43m(\u001b[49m\u001b[43m)\u001b[49m\u001b[43m,\u001b[49m\n\u001b[1;32m    436\u001b[0m \u001b[43m\u001b[49m\u001b[43m)\u001b[49m\n",
      "File \u001b[0;32m~/anaconda3/envs/spenv/lib/python3.10/site-packages/pandas/core/internals/managers.py:363\u001b[0m, in \u001b[0;36mBaseBlockManager.apply\u001b[0;34m(self, f, align_keys, **kwargs)\u001b[0m\n\u001b[1;32m    361\u001b[0m         applied \u001b[38;5;241m=\u001b[39m b\u001b[38;5;241m.\u001b[39mapply(f, \u001b[38;5;241m*\u001b[39m\u001b[38;5;241m*\u001b[39mkwargs)\n\u001b[1;32m    362\u001b[0m     \u001b[38;5;28;01melse\u001b[39;00m:\n\u001b[0;32m--> 363\u001b[0m         applied \u001b[38;5;241m=\u001b[39m \u001b[38;5;28;43mgetattr\u001b[39;49m\u001b[43m(\u001b[49m\u001b[43mb\u001b[49m\u001b[43m,\u001b[49m\u001b[43m \u001b[49m\u001b[43mf\u001b[49m\u001b[43m)\u001b[49m\u001b[43m(\u001b[49m\u001b[38;5;241;43m*\u001b[39;49m\u001b[38;5;241;43m*\u001b[39;49m\u001b[43mkwargs\u001b[49m\u001b[43m)\u001b[49m\n\u001b[1;32m    364\u001b[0m     result_blocks \u001b[38;5;241m=\u001b[39m extend_blocks(applied, result_blocks)\n\u001b[1;32m    366\u001b[0m out \u001b[38;5;241m=\u001b[39m \u001b[38;5;28mtype\u001b[39m(\u001b[38;5;28mself\u001b[39m)\u001b[38;5;241m.\u001b[39mfrom_blocks(result_blocks, \u001b[38;5;28mself\u001b[39m\u001b[38;5;241m.\u001b[39maxes)\n",
      "File \u001b[0;32m~/anaconda3/envs/spenv/lib/python3.10/site-packages/pandas/core/internals/blocks.py:758\u001b[0m, in \u001b[0;36mBlock.astype\u001b[0;34m(self, dtype, copy, errors, using_cow, squeeze)\u001b[0m\n\u001b[1;32m    755\u001b[0m         \u001b[38;5;28;01mraise\u001b[39;00m \u001b[38;5;167;01mValueError\u001b[39;00m(\u001b[38;5;124m\"\u001b[39m\u001b[38;5;124mCan not squeeze with more than one column.\u001b[39m\u001b[38;5;124m\"\u001b[39m)\n\u001b[1;32m    756\u001b[0m     values \u001b[38;5;241m=\u001b[39m values[\u001b[38;5;241m0\u001b[39m, :]  \u001b[38;5;66;03m# type: ignore[call-overload]\u001b[39;00m\n\u001b[0;32m--> 758\u001b[0m new_values \u001b[38;5;241m=\u001b[39m \u001b[43mastype_array_safe\u001b[49m\u001b[43m(\u001b[49m\u001b[43mvalues\u001b[49m\u001b[43m,\u001b[49m\u001b[43m \u001b[49m\u001b[43mdtype\u001b[49m\u001b[43m,\u001b[49m\u001b[43m \u001b[49m\u001b[43mcopy\u001b[49m\u001b[38;5;241;43m=\u001b[39;49m\u001b[43mcopy\u001b[49m\u001b[43m,\u001b[49m\u001b[43m \u001b[49m\u001b[43merrors\u001b[49m\u001b[38;5;241;43m=\u001b[39;49m\u001b[43merrors\u001b[49m\u001b[43m)\u001b[49m\n\u001b[1;32m    760\u001b[0m new_values \u001b[38;5;241m=\u001b[39m maybe_coerce_values(new_values)\n\u001b[1;32m    762\u001b[0m refs \u001b[38;5;241m=\u001b[39m \u001b[38;5;28;01mNone\u001b[39;00m\n",
      "File \u001b[0;32m~/anaconda3/envs/spenv/lib/python3.10/site-packages/pandas/core/dtypes/astype.py:237\u001b[0m, in \u001b[0;36mastype_array_safe\u001b[0;34m(values, dtype, copy, errors)\u001b[0m\n\u001b[1;32m    234\u001b[0m     dtype \u001b[38;5;241m=\u001b[39m dtype\u001b[38;5;241m.\u001b[39mnumpy_dtype\n\u001b[1;32m    236\u001b[0m \u001b[38;5;28;01mtry\u001b[39;00m:\n\u001b[0;32m--> 237\u001b[0m     new_values \u001b[38;5;241m=\u001b[39m \u001b[43mastype_array\u001b[49m\u001b[43m(\u001b[49m\u001b[43mvalues\u001b[49m\u001b[43m,\u001b[49m\u001b[43m \u001b[49m\u001b[43mdtype\u001b[49m\u001b[43m,\u001b[49m\u001b[43m \u001b[49m\u001b[43mcopy\u001b[49m\u001b[38;5;241;43m=\u001b[39;49m\u001b[43mcopy\u001b[49m\u001b[43m)\u001b[49m\n\u001b[1;32m    238\u001b[0m \u001b[38;5;28;01mexcept\u001b[39;00m (\u001b[38;5;167;01mValueError\u001b[39;00m, \u001b[38;5;167;01mTypeError\u001b[39;00m):\n\u001b[1;32m    239\u001b[0m     \u001b[38;5;66;03m# e.g. _astype_nansafe can fail on object-dtype of strings\u001b[39;00m\n\u001b[1;32m    240\u001b[0m     \u001b[38;5;66;03m#  trying to convert to float\u001b[39;00m\n\u001b[1;32m    241\u001b[0m     \u001b[38;5;28;01mif\u001b[39;00m errors \u001b[38;5;241m==\u001b[39m \u001b[38;5;124m\"\u001b[39m\u001b[38;5;124mignore\u001b[39m\u001b[38;5;124m\"\u001b[39m:\n",
      "File \u001b[0;32m~/anaconda3/envs/spenv/lib/python3.10/site-packages/pandas/core/dtypes/astype.py:182\u001b[0m, in \u001b[0;36mastype_array\u001b[0;34m(values, dtype, copy)\u001b[0m\n\u001b[1;32m    179\u001b[0m     values \u001b[38;5;241m=\u001b[39m values\u001b[38;5;241m.\u001b[39mastype(dtype, copy\u001b[38;5;241m=\u001b[39mcopy)\n\u001b[1;32m    181\u001b[0m \u001b[38;5;28;01melse\u001b[39;00m:\n\u001b[0;32m--> 182\u001b[0m     values \u001b[38;5;241m=\u001b[39m \u001b[43m_astype_nansafe\u001b[49m\u001b[43m(\u001b[49m\u001b[43mvalues\u001b[49m\u001b[43m,\u001b[49m\u001b[43m \u001b[49m\u001b[43mdtype\u001b[49m\u001b[43m,\u001b[49m\u001b[43m \u001b[49m\u001b[43mcopy\u001b[49m\u001b[38;5;241;43m=\u001b[39;49m\u001b[43mcopy\u001b[49m\u001b[43m)\u001b[49m\n\u001b[1;32m    184\u001b[0m \u001b[38;5;66;03m# in pandas we don't store numpy str dtypes, so convert to object\u001b[39;00m\n\u001b[1;32m    185\u001b[0m \u001b[38;5;28;01mif\u001b[39;00m \u001b[38;5;28misinstance\u001b[39m(dtype, np\u001b[38;5;241m.\u001b[39mdtype) \u001b[38;5;129;01mand\u001b[39;00m \u001b[38;5;28missubclass\u001b[39m(values\u001b[38;5;241m.\u001b[39mdtype\u001b[38;5;241m.\u001b[39mtype, \u001b[38;5;28mstr\u001b[39m):\n",
      "File \u001b[0;32m~/anaconda3/envs/spenv/lib/python3.10/site-packages/pandas/core/dtypes/astype.py:133\u001b[0m, in \u001b[0;36m_astype_nansafe\u001b[0;34m(arr, dtype, copy, skipna)\u001b[0m\n\u001b[1;32m    129\u001b[0m     \u001b[38;5;28;01mraise\u001b[39;00m \u001b[38;5;167;01mValueError\u001b[39;00m(msg)\n\u001b[1;32m    131\u001b[0m \u001b[38;5;28;01mif\u001b[39;00m copy \u001b[38;5;129;01mor\u001b[39;00m arr\u001b[38;5;241m.\u001b[39mdtype \u001b[38;5;241m==\u001b[39m \u001b[38;5;28mobject\u001b[39m \u001b[38;5;129;01mor\u001b[39;00m dtype \u001b[38;5;241m==\u001b[39m \u001b[38;5;28mobject\u001b[39m:\n\u001b[1;32m    132\u001b[0m     \u001b[38;5;66;03m# Explicit copy, or required since NumPy can't view from / to object.\u001b[39;00m\n\u001b[0;32m--> 133\u001b[0m     \u001b[38;5;28;01mreturn\u001b[39;00m \u001b[43marr\u001b[49m\u001b[38;5;241;43m.\u001b[39;49m\u001b[43mastype\u001b[49m\u001b[43m(\u001b[49m\u001b[43mdtype\u001b[49m\u001b[43m,\u001b[49m\u001b[43m \u001b[49m\u001b[43mcopy\u001b[49m\u001b[38;5;241;43m=\u001b[39;49m\u001b[38;5;28;43;01mTrue\u001b[39;49;00m\u001b[43m)\u001b[49m\n\u001b[1;32m    135\u001b[0m \u001b[38;5;28;01mreturn\u001b[39;00m arr\u001b[38;5;241m.\u001b[39mastype(dtype, copy\u001b[38;5;241m=\u001b[39mcopy)\n",
      "\u001b[0;31mValueError\u001b[0m: invalid literal for int() with base 10: ''"
     ]
    }
   ],
   "source": [
    "# Extract values using the lambda function\n",
    "df['price'] = df['price_raw'].apply(lambda x: re.sub('[^\\d]', '', x))\n",
    "\n",
    "df['price'] = df['price'].astype(int)\n",
    "\n",
    "\n"
   ]
  },
  {
   "cell_type": "code",
   "execution_count": null,
   "metadata": {},
   "outputs": [],
   "source": []
  }
 ],
 "metadata": {
  "kernelspec": {
   "display_name": "Python 3",
   "language": "python",
   "name": "python3"
  },
  "language_info": {
   "codemirror_mode": {
    "name": "ipython",
    "version": 3
   },
   "file_extension": ".py",
   "mimetype": "text/x-python",
   "name": "python",
   "nbconvert_exporter": "python",
   "pygments_lexer": "ipython3",
   "version": "3.10.13"
  }
 },
 "nbformat": 4,
 "nbformat_minor": 2
}
